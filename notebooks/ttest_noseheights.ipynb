{
 "cells": [
  {
   "cell_type": "markdown",
   "metadata": {},
   "source": [
    "## Students t test for nose heights\n",
    "* Determine if nose heights for no wind farm LLJs are statistically different than for wind farm parametrizations. Here, I combine data from vw-centroid, sw corner of vw, ne buoy, se buoy, southern la"
   ]
  },
  {
   "cell_type": "code",
   "execution_count": 1,
   "metadata": {},
   "outputs": [],
   "source": [
    "import pandas as pd\n",
    "import numpy as np\n",
    "import matplotlib.pyplot as plt\n",
    "import statistics\n",
    "import scipy.stats as stats"
   ]
  },
  {
   "cell_type": "code",
   "execution_count": 2,
   "metadata": {},
   "outputs": [],
   "source": [
    "vwcent_nwf = pd.read_csv('../detection2/NWF_vwcent.csv')\n",
    "nebuoy_nwf = pd.read_csv('../detection2/NWF_nebuoy.csv')\n",
    "southcent_nwf = pd.read_csv('../detection2/NWF_southcent.csv')\n",
    "swbuoy_nwf = pd.read_csv('../detection2/NWF_swbuoy.csv')\n",
    "swcorner_nwf = pd.read_csv('../detection2/NWF_vwcorner.csv')\n",
    "\n",
    "vwcent_wf = pd.read_csv('../detection2/VW100_vwcent.csv')\n",
    "nebuoy_wf = pd.read_csv('../detection2/CA100_nebuoy.csv')\n",
    "southcent_wf = pd.read_csv('../detection2/LA100_southcent.csv')\n",
    "swbuoy_wf = pd.read_csv('../detection2/CA100_swbuoy.csv')\n",
    "swcorner_wf = pd.read_csv('../detection2/VW100_vwcorner.csv')\n",
    "\n",
    "nwf = pd.concat([vwcent_nwf, nebuoy_nwf, southcent_nwf, swbuoy_nwf, swcorner_nwf])\n",
    "wf = pd.concat([vwcent_wf, nebuoy_wf, southcent_wf, swbuoy_wf, swcorner_wf])"
   ]
  },
  {
   "cell_type": "code",
   "execution_count": 3,
   "metadata": {},
   "outputs": [],
   "source": [
    "nwf = nwf['Nose height (meters)'].dropna()\n",
    "wf = wf['Nose height (meters)'].dropna()"
   ]
  },
  {
   "cell_type": "code",
   "execution_count": 4,
   "metadata": {},
   "outputs": [
    {
     "data": {
      "text/plain": [
       "(8273, 6378)"
      ]
     },
     "execution_count": 4,
     "metadata": {},
     "output_type": "execute_result"
    }
   ],
   "source": [
    "len(nwf), len(wf)"
   ]
  },
  {
   "cell_type": "markdown",
   "metadata": {},
   "source": [
    "### data exploration"
   ]
  },
  {
   "cell_type": "code",
   "execution_count": 6,
   "metadata": {},
   "outputs": [
    {
     "data": {
      "image/png": "[encoded data removed]",
      "text/plain": [
       "<Figure size 640x480 with 1 Axes>"
      ]
     },
     "metadata": {},
     "output_type": "display_data"
    }
   ],
   "source": [
    "plt.hist(nwf, bins=np.arange(0, 800, 50), edgecolor='k');"
   ]
  },
  {
   "cell_type": "code",
   "execution_count": 7,
   "metadata": {},
   "outputs": [
    {
     "data": {
      "image/png": "[encoded data removed]",
      "text/plain": [
       "<Figure size 640x480 with 1 Axes>"
      ]
     },
     "metadata": {},
     "output_type": "display_data"
    }
   ],
   "source": [
    "plt.hist(wf, bins=np.arange(0, 800, 50), edgecolor='k');"
   ]
  },
  {
   "cell_type": "code",
   "execution_count": 8,
   "metadata": {},
   "outputs": [
    {
     "data": {
      "text/plain": [
       "(24907.6858062216, 20216.1409596679, 1.2320692587132995)"
      ]
     },
     "execution_count": 8,
     "metadata": {},
     "output_type": "execute_result"
    }
   ],
   "source": [
    "statistics.variance(nwf), statistics.variance(wf), statistics.variance(nwf)/statistics.variance(wf)"
   ]
  },
  {
   "cell_type": "code",
   "execution_count": 9,
   "metadata": {},
   "outputs": [
    {
     "data": {
      "text/plain": [
       "(348.8777053922462, 439.77778387024847)"
      ]
     },
     "execution_count": 9,
     "metadata": {},
     "output_type": "execute_result"
    }
   ],
   "source": [
    "nwf.mean(), wf.mean()"
   ]
  },
  {
   "cell_type": "code",
   "execution_count": 10,
   "metadata": {},
   "outputs": [
    {
     "data": {
      "text/plain": [
       "(47.26945114135742, 45.110496520996094, 735.7821655273438, 735.8635864257812)"
      ]
     },
     "execution_count": 10,
     "metadata": {},
     "output_type": "execute_result"
    }
   ],
   "source": [
    "nwf.min(), wf.min(), nwf.max(), wf.max()"
   ]
  },
  {
   "cell_type": "markdown",
   "metadata": {},
   "source": [
    "### t-test\n",
    "* We will use a two-sample t-test because there are two groups of samples and we want to compare them to find whether they belong to the same population\n",
    "* null hypothesis: the means of nwf and wf are equal\n",
    "* alternative hypothesis: the mean of the nwf sample is less than the mean of the wf sample\n",
    "* use alpha=0.05"
   ]
  },
  {
   "cell_type": "code",
   "execution_count": 17,
   "metadata": {},
   "outputs": [
    {
     "data": {
      "text/plain": [
       "Ttest_indResult(statistic=-36.56422725915639, pvalue=3.346024166088051e-280)"
      ]
     },
     "execution_count": 17,
     "metadata": {},
     "output_type": "execute_result"
    }
   ],
   "source": [
    "stats.ttest_ind(a=nwf, b=wf, equal_var=False, alternative='less')"
   ]
  },
  {
   "cell_type": "markdown",
   "metadata": {},
   "source": [
    "#### analysis of results\n",
    "* the p-value is much smaller than alpha=0.05, so we can reject the null hypothesis that the mean of the nwf nose heights is equal to the mean nose height for the wf nose heights"
   ]
  },
  {
   "cell_type": "markdown",
   "metadata": {},
   "source": [
    "## Summary\n",
    "\n",
    "* In this analysis I compared the nose heights for both nwf and wf simulations to determine if their means are different using a two-sample t-test. There were 3209 values in the nwf sample and 1864 values in the wf sample. The mean of the nwf sample was 294, and the mean of the wf sample was 382. Both samples had similar variances, and approximately normal distributions, so the t-test was appropriate. For a t-test with a null hypothesis that the two means are equal, I found a p-value of 2.7e-140, which is much lower than the threshold value of 0.05, so I can confidently reject the null hypothesis. When analyzing each location independently, the null hypothesis can be rejected for each location. "
   ]
  },
  {
   "cell_type": "markdown",
   "metadata": {},
   "source": [
    "### Further analysis for each location:"
   ]
  },
  {
   "cell_type": "code",
   "execution_count": 22,
   "metadata": {},
   "outputs": [],
   "source": [
    "nwf_list = [vwcent_nwf, nebuoy_nwf, southcent_nwf, swbuoy_nwf, swcorner_nwf]\n",
    "wf_list = [vwcent_wf, nebuoy_wf, southcent_wf, swbuoy_wf, swcorner_wf]"
   ]
  },
  {
   "cell_type": "code",
   "execution_count": 23,
   "metadata": {},
   "outputs": [
    {
     "name": "stdout",
     "output_type": "stream",
     "text": [
      "vw-cent\n",
      "sample sizes:  2287 1787\n",
      "Means:  354.2179383368382 461.0567836515985\n",
      "Variance:  23769.36594289846 14528.675077967673 1.6360312151893353\n",
      "t-test:\n",
      "Ttest_indResult(statistic=-24.823795234645505, pvalue=4.286755916100405e-127)\n",
      "-----------------------\n",
      "nebuoy\n",
      "sample sizes:  781 494\n",
      "Means:  352.07263272000944 515.8969374436599\n",
      "Variance:  21146.216263176393 11936.39606404903 1.7715746151274436\n",
      "t-test:\n",
      "Ttest_indResult(statistic=-22.88652464945472, pvalue=3.0865516420227755e-97)\n",
      "-----------------------\n",
      "southern_la_centroid\n",
      "sample sizes:  2241 1726\n",
      "Means:  337.66476160242644 429.9705455841913\n",
      "Variance:  28784.50965138322 20078.20320118732 1.4336197996881044\n",
      "t-test:\n",
      "Ttest_indResult(statistic=-18.657234408155983, pvalue=8.223752697130543e-75)\n",
      "-----------------------\n",
      "swbuoy\n",
      "sample sizes:  723 370\n",
      "Means:  338.2753019108647 520.6083325669572\n",
      "Variance:  21690.964624331176 13855.676392413452 1.5654930160037415\n",
      "t-test:\n",
      "Ttest_indResult(statistic=-22.20124066317467, pvalue=9.309564891996857e-88)\n",
      "-----------------------\n",
      "swcorner_vwinds\n",
      "sample sizes:  2241 2001\n",
      "Means:  356.94793911056826 395.4957028054881\n",
      "Variance:  24323.74957912513 23579.59232524665 1.0315593774317173\n",
      "t-test:\n",
      "Ttest_indResult(statistic=-8.101796954565689, pvalue=3.517027506895501e-16)\n",
      "-----------------------\n"
     ]
    }
   ],
   "source": [
    "loc_names = ['vw-cent', 'nebuoy', 'southern_la_centroid', 'swbuoy', 'swcorner_vwinds']\n",
    "for i in range(len(nwf_list)):\n",
    "    nwf_i = nwf_list[i]['Nose height (meters)'].dropna()\n",
    "    wf_i = wf_list[i]['Nose height (meters)'].dropna()\n",
    "    \n",
    "    print(loc_names[i])\n",
    "    print('sample sizes: ', len(nwf_i), len(wf_i))\n",
    "    print('Means: ', nwf_i.mean(), wf_i.mean())\n",
    "    print('Variance: ', statistics.variance(nwf_i), statistics.variance(wf_i), statistics.variance(nwf_i)/statistics.variance(wf_i))\n",
    "    print(\"t-test:\")\n",
    "    print(stats.ttest_ind(a=nwf_i, b=wf_i, equal_var=False, alternative='less'))\n",
    "    print('-----------------------')"
   ]
  },
  {
   "cell_type": "code",
   "execution_count": null,
   "metadata": {},
   "outputs": [],
   "source": []
  }
 ],
 "metadata": {
  "kernelspec": {
   "display_name": "res_env",
   "language": "python",
   "name": "res_env"
  },
  "language_info": {
   "codemirror_mode": {
    "name": "ipython",
    "version": 3
   },
   "file_extension": ".py",
   "mimetype": "text/x-python",
   "name": "python",
   "nbconvert_exporter": "python",
   "pygments_lexer": "ipython3",
   "version": "3.10.6"
  }
 },
 "nbformat": 4,
 "nbformat_minor": 4
}
