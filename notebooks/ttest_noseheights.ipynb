{
 "cells": [
  {
   "cell_type": "markdown",
   "metadata": {},
   "source": [
    "## Students t test for nose heights\n",
    "* Determine if nose heights for no wind farm LLJs are statistically different than for wind farm parametrizations. Here, I combine data from vw-centroid, sw corner of vw, ne buoy, se buoy, southern la"
   ]
  },
  {
   "cell_type": "code",
   "execution_count": 27,
   "metadata": {},
   "outputs": [],
   "source": [
    "import pandas as pd\n",
    "import numpy as np\n",
    "import matplotlib.pyplot as plt\n",
    "import statistics\n",
    "import scipy.stats as stats"
   ]
  },
  {
   "cell_type": "code",
   "execution_count": 4,
   "metadata": {},
   "outputs": [],
   "source": [
    "vwcent_nwf = pd.read_csv('LLJ_data/NWF_vwcent.csv')\n",
    "nebuoy_nwf = pd.read_csv('LLJ_data/NWF_nebuoy.csv')\n",
    "southcent_nwf = pd.read_csv('LLJ_data/NWF_southcent.csv')\n",
    "swbuoy_nwf = pd.read_csv('LLJ_data/NWF_swbuoy.csv')\n",
    "swcorner_nwf = pd.read_csv('LLJ_data/NWF_swcorner.csv')\n",
    "\n",
    "vwcent_wf = pd.read_csv('LLJ_data/VW100_vwcent.csv')\n",
    "nebuoy_wf = pd.read_csv('LLJ_data/CA100_nebuoy.csv')\n",
    "southcent_wf = pd.read_csv('LLJ_data/LA100_southcent.csv')\n",
    "swbuoy_wf = pd.read_csv('LLJ_data/CA100_swbuoy.csv')\n",
    "swcorner_wf = pd.read_csv('LLJ_data/VW100_swcorner.csv')\n",
    "\n",
    "nwf = pd.concat([vwcent_nwf, nebuoy_nwf, southcent_nwf, swbuoy_nwf, swcorner_nwf])\n",
    "wf = pd.concat([vwcent_wf, nebuoy_wf, southcent_wf, swbuoy_wf, swcorner_wf])"
   ]
  },
  {
   "cell_type": "code",
   "execution_count": 8,
   "metadata": {},
   "outputs": [],
   "source": [
    "nwf = nwf['Nose height (meters)'].dropna()\n",
    "wf = wf['Nose height (meters)'].dropna()"
   ]
  },
  {
   "cell_type": "code",
   "execution_count": 10,
   "metadata": {},
   "outputs": [
    {
     "data": {
      "text/plain": [
       "(3209, 1864)"
      ]
     },
     "execution_count": 10,
     "metadata": {},
     "output_type": "execute_result"
    }
   ],
   "source": [
    "len(nwf), len(wf)"
   ]
  },
  {
   "cell_type": "markdown",
   "metadata": {},
   "source": [
    "### data exploration"
   ]
  },
  {
   "cell_type": "code",
   "execution_count": 19,
   "metadata": {},
   "outputs": [
    {
     "data": {
      "image/png": "[encoded data removed]",
      "text/plain": [
       "<Figure size 640x480 with 1 Axes>"
      ]
     },
     "metadata": {},
     "output_type": "display_data"
    }
   ],
   "source": [
    "plt.hist(nwf, bins=np.arange(0, 800, 50));"
   ]
  },
  {
   "cell_type": "code",
   "execution_count": 22,
   "metadata": {},
   "outputs": [
    {
     "data": {
      "image/png": "[encoded data removed]",
      "text/plain": [
       "<Figure size 640x480 with 1 Axes>"
      ]
     },
     "metadata": {},
     "output_type": "display_data"
    }
   ],
   "source": [
    "plt.hist(wf, bins=np.arange(0, 800, 50));"
   ]
  },
  {
   "cell_type": "code",
   "execution_count": 26,
   "metadata": {},
   "outputs": [
    {
     "data": {
      "text/plain": [
       "(13588.14099201066, 13130.806733338593, 1.0348291059307813)"
      ]
     },
     "execution_count": 26,
     "metadata": {},
     "output_type": "execute_result"
    }
   ],
   "source": [
    "statistics.variance(nwf), statistics.variance(wf), statistics.variance(nwf)/statistics.variance(wf)"
   ]
  },
  {
   "cell_type": "code",
   "execution_count": 30,
   "metadata": {},
   "outputs": [
    {
     "data": {
      "text/plain": [
       "(294.38310351777426, 382.0929848196169)"
      ]
     },
     "execution_count": 30,
     "metadata": {},
     "output_type": "execute_result"
    }
   ],
   "source": [
    "nwf.mean(), wf.mean()"
   ]
  },
  {
   "cell_type": "markdown",
   "metadata": {},
   "source": [
    "### t-test\n",
    "* We will use a two-sample t-test because there are two groups of samples and we want to compare them to find whether they belong to the same population\n",
    "* null hypothesis: the means of nwf and wf are equal\n",
    "* alternative hypothesis: the mean of the nwf sample is less than the mean of the wf sample\n",
    "* use alpha=0.05"
   ]
  },
  {
   "cell_type": "code",
   "execution_count": 29,
   "metadata": {},
   "outputs": [
    {
     "data": {
      "text/plain": [
       "Ttest_indResult(statistic=-25.998341189723163, pvalue=2.695845039301163e-140)"
      ]
     },
     "execution_count": 29,
     "metadata": {},
     "output_type": "execute_result"
    }
   ],
   "source": [
    "stats.ttest_ind(a=nwf, b=wf, equal_var=True, alternative='less')"
   ]
  },
  {
   "cell_type": "markdown",
   "metadata": {},
   "source": [
    "#### analysis of results\n",
    "* the p-value is much smaller than alpha=0.05, so we can reject the null hypothesis that the mean of the nwf nose heights is equal to the mean nose height for the wf nose heights"
   ]
  },
  {
   "cell_type": "markdown",
   "metadata": {},
   "source": [
    "## Summary\n",
    "\n",
    "* In this analysis I compared the nose heights for both nwf and wf simulations to determine if their means are different using a two-sample t-test. There were 3209 values in the nwf sample and 1864 values in the wf sample. The mean of the nwf sample was 294, and the mean of the wf sample was 382. Both samples had similar variances, and approximately normal distributions, so the t-test was appropriate. For a t-test with a null hypothesis that the two means are equal, I found a p-value of 2.7e-140, which is much lower than the threshold value of 0.05, so I can confidently reject the null hypothesis. When analyzing each location independently, the null hypothesis can be rejected for each location. "
   ]
  },
  {
   "cell_type": "markdown",
   "metadata": {},
   "source": [
    "### Further analysis for each location:"
   ]
  },
  {
   "cell_type": "code",
   "execution_count": 31,
   "metadata": {},
   "outputs": [],
   "source": [
    "nwf_list = [vwcent_nwf, nebuoy_nwf, southcent_nwf, swbuoy_nwf, swcorner_nwf]\n",
    "wf_list = [vwcent_wf, nebuoy_wf, southcent_wf, swbuoy_wf, swcorner_wf]"
   ]
  },
  {
   "cell_type": "code",
   "execution_count": 33,
   "metadata": {},
   "outputs": [
    {
     "name": "stdout",
     "output_type": "stream",
     "text": [
      "vw-cent\n",
      "sample sizes:  829 552\n",
      "Means:  313.11749863020617 414.2732027164404\n",
      "Variance:  14706.270469251585 9225.956808273086 1.5940103313798522\n",
      "t-test:\n",
      "Ttest_indResult(statistic=-16.45880799584012, pvalue=5.1964828650729245e-56)\n",
      "-----------------------\n",
      "nebuoy\n",
      "sample sizes:  756 94\n",
      "Means:  284.80445194244385 476.49992954984623\n",
      "Variance:  12002.23729132346 8011.011048671099 1.4982175431295206\n",
      "t-test:\n",
      "Ttest_indResult(statistic=-16.29909226978092, pvalue=1.8316544612243557e-52)\n",
      "-----------------------\n",
      "southern_la_centroid\n",
      "sample sizes:  737 471\n",
      "Means:  270.4788341185778 360.4571670564623\n",
      "Variance:  13120.348080473645 10688.619796180248 1.2275062946071311\n",
      "t-test:\n",
      "Ttest_indResult(statistic=-13.82470694685897, pvalue=9.244743336043003e-41)\n",
      "-----------------------\n",
      "swbuoy\n",
      "sample sizes:  97 70\n",
      "Means:  240.8569636394068 459.54482220241\n",
      "Variance:  5008.616163714777 11159.186186779189 0.4488334614981798\n",
      "t-test:\n",
      "Ttest_indResult(statistic=-16.015756227029627, pvalue=9.86173953441279e-36)\n",
      "-----------------------\n",
      "swcorner_vwinds\n",
      "sample sizes:  790 677\n",
      "Means:  312.7630138445504 349.79033853595683\n",
      "Variance:  13800.541891357632 14917.589471800486 0.9251187611407012\n",
      "t-test:\n",
      "Ttest_indResult(statistic=-5.908871425762011, pvalue=2.1384407658192615e-09)\n",
      "-----------------------\n"
     ]
    }
   ],
   "source": [
    "loc_names = ['vw-cent', 'nebuoy', 'southern_la_centroid', 'swbuoy', 'swcorner_vwinds']\n",
    "for i in range(len(nwf_list)):\n",
    "    nwf_i = nwf_list[i]['Nose height (meters)'].dropna()\n",
    "    wf_i = wf_list[i]['Nose height (meters)'].dropna()\n",
    "    \n",
    "    print(loc_names[i])\n",
    "    print('sample sizes: ', len(nwf_i), len(wf_i))\n",
    "    print('Means: ', nwf_i.mean(), wf_i.mean())\n",
    "    print('Variance: ', statistics.variance(nwf_i), statistics.variance(wf_i), statistics.variance(nwf_i)/statistics.variance(wf_i))\n",
    "    print(\"t-test:\")\n",
    "    print(stats.ttest_ind(a=nwf_i, b=wf_i, equal_var=True, alternative='less'))\n",
    "    print('-----------------------')"
   ]
  },
  {
   "cell_type": "code",
   "execution_count": null,
   "metadata": {},
   "outputs": [],
   "source": []
  }
 ],
 "metadata": {
  "kernelspec": {
   "display_name": "res_env",
   "language": "python",
   "name": "res_env"
  },
  "language_info": {
   "codemirror_mode": {
    "name": "ipython",
    "version": 3
   },
   "file_extension": ".py",
   "mimetype": "text/x-python",
   "name": "python",
   "nbconvert_exporter": "python",
   "pygments_lexer": "ipython3",
   "version": "3.10.6"
  }
 },
 "nbformat": 4,
 "nbformat_minor": 4
}
